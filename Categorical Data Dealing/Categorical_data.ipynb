{
 "cells": [
  {
   "cell_type": "code",
   "execution_count": 33,
   "metadata": {},
   "outputs": [],
   "source": [
    "import pandas as pd\n",
    "\n",
    "# Load the Excel file into a DataFrame\n",
    "df = pd.read_excel('Data.xlsx')"
   ]
  },
  {
   "cell_type": "code",
   "execution_count": 34,
   "metadata": {},
   "outputs": [
    {
     "name": "stdout",
     "output_type": "stream",
     "text": [
      "   ref_no  age      sex        race         injury_time        arrival_time  \\\n",
      "0       1   84  Female   White      2015-01-03 16:00:00 2015-01-03 20:55:00   \n",
      "1       2    5  Male     Other      2015-01-06 16:45:00 2015-01-06 18:38:00   \n",
      "2       3   29  Male     Other      2015-01-07 01:30:00 2015-01-07 07:28:00   \n",
      "3       4   19  Male     White                      NaT 2015-01-08 15:03:00   \n",
      "4       5   61  Male     Other      2015-01-09 12:00:00 2015-01-10 08:56:00   \n",
      "\n",
      "     eddischarge_time              pov transfer  \\\n",
      "0 2015-01-03 21:22:00                       Yes   \n",
      "1 2015-01-06 20:21:00                       Yes   \n",
      "2 2015-01-07 09:55:00                       Yes   \n",
      "3 2015-01-08 16:51:00                       Yes   \n",
      "4 2015-01-10 12:27:00                        No   \n",
      "\n",
      "                referring_facility  ... tbsa3 inhalation  \\\n",
      "0   Golden Plains Community Hospit  ...     3        Yes   \n",
      "1   Covenant Hospital Plainview     ...   NaN         No   \n",
      "2   New Mexico, State of            ...   NaN         No   \n",
      "3  New Mexico, State of             ...   NaN         No   \n",
      "4                                   ...  0.25         No   \n",
      "\n",
      "                                           diagnosis readmission  \\\n",
      "0  3.5 % 2nd degree burn\\r\\n3.0% 3rd degree burn\\...          No   \n",
      "1  3% second degree burn TBSA bilateral buttocks ...          No   \n",
      "2  6% TBSA 2nd degree burn to right hand, arm and...          No   \n",
      "3            Toxic epidermal necrolysis 53 1/2% TBSA          No   \n",
      "4  1.25% TBSA 2nd degree burn to bilateral hands\\...          No   \n",
      "\n",
      "                                      details_injury              moi  \\\n",
      "0                                                NaN  Thermal Burn      \n",
      "1  5 YO male transferred from plainview 3% tbsa b...  Thermal Burn      \n",
      "2                                                NaN  Thermal Burn      \n",
      "3                                                NaN  Other Burn Mech   \n",
      "4                                                NaN  Thermal Burn      \n",
      "\n",
      "       discharge_time icu_los total_los status  \n",
      "0 2015-01-15 00:14:00      10      13.0   Dead  \n",
      "1 2015-01-10 09:45:00       0       5.0  Alive  \n",
      "2 2015-01-12 15:05:00       0       6.0  Alive  \n",
      "3 2015-02-06 14:55:00      22      30.0  Alive  \n",
      "4 2015-01-12 12:50:00       0       3.0  Alive  \n",
      "\n",
      "[5 rows x 25 columns]\n"
     ]
    }
   ],
   "source": [
    "print(df.head())"
   ]
  },
  {
   "cell_type": "code",
   "execution_count": 36,
   "metadata": {},
   "outputs": [
    {
     "name": "stdout",
     "output_type": "stream",
     "text": [
      "sex\n",
      "Male       2387\n",
      "Female     1019\n",
      "Name: count, dtype: int64\n"
     ]
    }
   ],
   "source": [
    "counts = df['sex'].value_counts()\n",
    "print(counts)"
   ]
  },
  {
   "cell_type": "code",
   "execution_count": 38,
   "metadata": {},
   "outputs": [],
   "source": [
    "df1 = pd.get_dummies(df,columns = ['sex'], prefix = \"Sex_\",dtype=int)\n",
    "\n",
    "# Save the DataFrame to a new Excel file\n",
    "\n",
    "df1.to_excel('Data_sex.xlsx', index=False)"
   ]
  },
  {
   "cell_type": "code",
   "execution_count": 39,
   "metadata": {},
   "outputs": [
    {
     "name": "stdout",
     "output_type": "stream",
     "text": [
      "   ref_no  age        race         injury_time        arrival_time  \\\n",
      "0       1   84  White      2015-01-03 16:00:00 2015-01-03 20:55:00   \n",
      "1       2    5  Other      2015-01-06 16:45:00 2015-01-06 18:38:00   \n",
      "2       3   29  Other      2015-01-07 01:30:00 2015-01-07 07:28:00   \n",
      "3       4   19  White                      NaT 2015-01-08 15:03:00   \n",
      "4       5   61  Other      2015-01-09 12:00:00 2015-01-10 08:56:00   \n",
      "\n",
      "     eddischarge_time              pov transfer  \\\n",
      "0 2015-01-03 21:22:00                       Yes   \n",
      "1 2015-01-06 20:21:00                       Yes   \n",
      "2 2015-01-07 09:55:00                       Yes   \n",
      "3 2015-01-08 16:51:00                       Yes   \n",
      "4 2015-01-10 12:27:00                        No   \n",
      "\n",
      "                referring_facility                    arrival_mode  ...  \\\n",
      "0   Golden Plains Community Hospit  Helicopter Ambulance            ...   \n",
      "1   Covenant Hospital Plainview     Helicopter Ambulance            ...   \n",
      "2   New Mexico, State of            Fixed-Wing Ambulance            ...   \n",
      "3  New Mexico, State of             Helicopter Ambulance            ...   \n",
      "4                                   Private Vehicle or Walk-In      ...   \n",
      "\n",
      "                                           diagnosis readmission  \\\n",
      "0  3.5 % 2nd degree burn\\r\\n3.0% 3rd degree burn\\...          No   \n",
      "1  3% second degree burn TBSA bilateral buttocks ...          No   \n",
      "2  6% TBSA 2nd degree burn to right hand, arm and...          No   \n",
      "3            Toxic epidermal necrolysis 53 1/2% TBSA          No   \n",
      "4  1.25% TBSA 2nd degree burn to bilateral hands\\...          No   \n",
      "\n",
      "                                      details_injury              moi  \\\n",
      "0                                                NaN  Thermal Burn      \n",
      "1  5 YO male transferred from plainview 3% tbsa b...  Thermal Burn      \n",
      "2                                                NaN  Thermal Burn      \n",
      "3                                                NaN  Other Burn Mech   \n",
      "4                                                NaN  Thermal Burn      \n",
      "\n",
      "       discharge_time icu_los total_los status Sex__Female  Sex__Male     \n",
      "0 2015-01-15 00:14:00      10      13.0   Dead            1            0  \n",
      "1 2015-01-10 09:45:00       0       5.0  Alive            0            1  \n",
      "2 2015-01-12 15:05:00       0       6.0  Alive            0            1  \n",
      "3 2015-02-06 14:55:00      22      30.0  Alive            0            1  \n",
      "4 2015-01-12 12:50:00       0       3.0  Alive            0            1  \n",
      "\n",
      "[5 rows x 26 columns]\n"
     ]
    }
   ],
   "source": [
    "print(df1.head())"
   ]
  },
  {
   "cell_type": "markdown",
   "metadata": {},
   "source": [
    "#### Get rid off the duplicate values"
   ]
  },
  {
   "cell_type": "code",
   "execution_count": 40,
   "metadata": {},
   "outputs": [],
   "source": [
    "df['status'] = df['status'].str.strip()"
   ]
  },
  {
   "cell_type": "code",
   "execution_count": 41,
   "metadata": {},
   "outputs": [
    {
     "name": "stdout",
     "output_type": "stream",
     "text": [
      "status\n",
      "Alive    3241\n",
      "Dead      164\n",
      "            1\n",
      "Name: count, dtype: int64\n"
     ]
    }
   ],
   "source": [
    "counts_status = df['status'].value_counts()\n",
    "print(counts_status)"
   ]
  },
  {
   "cell_type": "code",
   "execution_count": 42,
   "metadata": {},
   "outputs": [],
   "source": [
    "# Perform one-hot encoding\n",
    "one_hot_encoded = pd.get_dummies(df['status'], prefix='Status_',dtype=int)\n",
    "# Concatenate the one-hot encoded DataFrame with the original DataFrame\n",
    "df1 = pd.concat([df1, one_hot_encoded], axis=1)"
   ]
  },
  {
   "cell_type": "code",
   "execution_count": 43,
   "metadata": {},
   "outputs": [
    {
     "name": "stdout",
     "output_type": "stream",
     "text": [
      "   ref_no  age        race         injury_time        arrival_time  \\\n",
      "0       1   84  White      2015-01-03 16:00:00 2015-01-03 20:55:00   \n",
      "1       2    5  Other      2015-01-06 16:45:00 2015-01-06 18:38:00   \n",
      "2       3   29  Other      2015-01-07 01:30:00 2015-01-07 07:28:00   \n",
      "3       4   19  White                      NaT 2015-01-08 15:03:00   \n",
      "4       5   61  Other      2015-01-09 12:00:00 2015-01-10 08:56:00   \n",
      "\n",
      "     eddischarge_time              pov transfer  \\\n",
      "0 2015-01-03 21:22:00                       Yes   \n",
      "1 2015-01-06 20:21:00                       Yes   \n",
      "2 2015-01-07 09:55:00                       Yes   \n",
      "3 2015-01-08 16:51:00                       Yes   \n",
      "4 2015-01-10 12:27:00                        No   \n",
      "\n",
      "                referring_facility                    arrival_mode  ...  \\\n",
      "0   Golden Plains Community Hospit  Helicopter Ambulance            ...   \n",
      "1   Covenant Hospital Plainview     Helicopter Ambulance            ...   \n",
      "2   New Mexico, State of            Fixed-Wing Ambulance            ...   \n",
      "3  New Mexico, State of             Helicopter Ambulance            ...   \n",
      "4                                   Private Vehicle or Walk-In      ...   \n",
      "\n",
      "               moi      discharge_time icu_los total_los status Sex__Female   \\\n",
      "0  Thermal Burn    2015-01-15 00:14:00      10      13.0   Dead            1   \n",
      "1  Thermal Burn    2015-01-10 09:45:00       0       5.0  Alive            0   \n",
      "2  Thermal Burn    2015-01-12 15:05:00       0       6.0  Alive            0   \n",
      "3  Other Burn Mech 2015-02-06 14:55:00      22      30.0  Alive            0   \n",
      "4  Thermal Burn    2015-01-12 12:50:00       0       3.0  Alive            0   \n",
      "\n",
      "  Sex__Male    Status__ Status__Alive Status__Dead  \n",
      "0            0        0             0            1  \n",
      "1            1        0             1            0  \n",
      "2            1        0             1            0  \n",
      "3            1        0             1            0  \n",
      "4            1        0             1            0  \n",
      "\n",
      "[5 rows x 29 columns]\n"
     ]
    }
   ],
   "source": [
    "print(df1.head())\n",
    "df1.to_excel('Data_sex_status.xlsx', index=False)"
   ]
  },
  {
   "cell_type": "code",
   "execution_count": 65,
   "metadata": {},
   "outputs": [],
   "source": [
    "df['moi'] = df['moi'].str.strip()"
   ]
  },
  {
   "cell_type": "code",
   "execution_count": 66,
   "metadata": {},
   "outputs": [
    {
     "name": "stdout",
     "output_type": "stream",
     "text": [
      "moi\n",
      "Thermal Burn       2487\n",
      "Not Applicable      317\n",
      "Other Burn Mech     293\n",
      "Electrical Burn     171\n",
      "Chemical Burn       120\n",
      "MVC                   9\n",
      "Inhalation Burn       9\n",
      "Name: count, dtype: int64\n"
     ]
    }
   ],
   "source": [
    "count_moi = df['moi'].value_counts()\n",
    "print(count_moi)"
   ]
  },
  {
   "cell_type": "code",
   "execution_count": 67,
   "metadata": {},
   "outputs": [],
   "source": [
    "# Perform one-hot encoding\n",
    "one_hot_encoded_moi = pd.get_dummies(df['moi'], prefix='Moi_',dtype=int)\n",
    "# Concatenate the one-hot encoded DataFrame with the original DataFrame\n",
    "df1 = pd.concat([df1, one_hot_encoded_moi], axis=1)"
   ]
  },
  {
   "cell_type": "code",
   "execution_count": 63,
   "metadata": {},
   "outputs": [],
   "source": [
    "columns_to_drop = ['Moi__Chemical Burn  ', 'Moi__Electrical Burn',\n",
    "       'Moi__Inhalation Burn', 'Moi__MVC            ', 'Moi__Not Applicable',\n",
    "       'Moi__Not Applicable ', 'Moi__Other Burn Mech', 'Moi__Thermal Burn',\n",
    "       'Moi__Thermal Burn   ', 'Moi__Chemical Burn', 'Moi__Electrical Burn',\n",
    "       'Moi__Inhalation Burn', 'Moi__MVC', 'Moi__Not Applicable',\n",
    "       'Moi__Other Burn Mech', 'Moi__Thermal Burn']  # List of columns to drop\n",
    "df1.drop(columns_to_drop, axis=1, inplace=True)"
   ]
  },
  {
   "cell_type": "code",
   "execution_count": 59,
   "metadata": {},
   "outputs": [
    {
     "name": "stdout",
     "output_type": "stream",
     "text": [
      "   ref_no  age        race         injury_time        arrival_time  \\\n",
      "0       1   84  White      2015-01-03 16:00:00 2015-01-03 20:55:00   \n",
      "1       2    5  Other      2015-01-06 16:45:00 2015-01-06 18:38:00   \n",
      "2       3   29  Other      2015-01-07 01:30:00 2015-01-07 07:28:00   \n",
      "3       4   19  White                      NaT 2015-01-08 15:03:00   \n",
      "4       5   61  Other      2015-01-09 12:00:00 2015-01-10 08:56:00   \n",
      "\n",
      "     eddischarge_time              pov transfer  \\\n",
      "0 2015-01-03 21:22:00                       Yes   \n",
      "1 2015-01-06 20:21:00                       Yes   \n",
      "2 2015-01-07 09:55:00                       Yes   \n",
      "3 2015-01-08 16:51:00                       Yes   \n",
      "4 2015-01-10 12:27:00                        No   \n",
      "\n",
      "                referring_facility                    arrival_mode  ...  \\\n",
      "0   Golden Plains Community Hospit  Helicopter Ambulance            ...   \n",
      "1   Covenant Hospital Plainview     Helicopter Ambulance            ...   \n",
      "2   New Mexico, State of            Fixed-Wing Ambulance            ...   \n",
      "3  New Mexico, State of             Helicopter Ambulance            ...   \n",
      "4                                   Private Vehicle or Walk-In      ...   \n",
      "\n",
      "  Moi__Other Burn Mech Moi__Thermal Burn Moi__Thermal Burn     \\\n",
      "0                    0                 0                    1   \n",
      "1                    0                 0                    1   \n",
      "2                    0                 0                    1   \n",
      "3                    1                 0                    0   \n",
      "4                    0                 0                    1   \n",
      "\n",
      "  Moi__Chemical Burn Moi__Electrical Burn Moi__Inhalation Burn Moi__MVC  \\\n",
      "0                  0                    0                    0        0   \n",
      "1                  0                    0                    0        0   \n",
      "2                  0                    0                    0        0   \n",
      "3                  0                    0                    0        0   \n",
      "4                  0                    0                    0        0   \n",
      "\n",
      "  Moi__Not Applicable Moi__Other Burn Mech Moi__Thermal Burn  \n",
      "0                   0                    0                 1  \n",
      "1                   0                    0                 1  \n",
      "2                   0                    0                 1  \n",
      "3                   0                    1                 0  \n",
      "4                   0                    0                 1  \n",
      "\n",
      "[5 rows x 45 columns]\n"
     ]
    }
   ],
   "source": [
    "print(df1.head())"
   ]
  },
  {
   "cell_type": "code",
   "execution_count": 69,
   "metadata": {},
   "outputs": [
    {
     "name": "stdout",
     "output_type": "stream",
     "text": [
      "Index(['ref_no', 'age', 'race', 'injury_time', 'arrival_time',\n",
      "       'eddischarge_time', 'pov', 'transfer', 'referring_facility',\n",
      "       'arrival_mode', 'intubated', 'ventstop_time', 'other_ventstop_time',\n",
      "       'tbsa2', 'tbsa3', 'inhalation', 'diagnosis', 'readmission',\n",
      "       'details_injury', 'moi', 'discharge_time', 'icu_los', 'total_los',\n",
      "       'status', 'Sex__Female ', 'Sex__Male   ', 'Status__', 'Status__Alive',\n",
      "       'Status__Dead', 'Moi__Chemical Burn', 'Moi__Electrical Burn',\n",
      "       'Moi__Inhalation Burn', 'Moi__MVC', 'Moi__Not Applicable',\n",
      "       'Moi__Other Burn Mech', 'Moi__Thermal Burn'],\n",
      "      dtype='object')\n"
     ]
    }
   ],
   "source": [
    "print(df1.columns)"
   ]
  },
  {
   "cell_type": "code",
   "execution_count": 70,
   "metadata": {},
   "outputs": [],
   "source": [
    "df1.to_excel('Data_sex_status_moi_new.xlsx', index=False)"
   ]
  },
  {
   "cell_type": "markdown",
   "metadata": {},
   "source": [
    "#### Readmission"
   ]
  },
  {
   "cell_type": "code",
   "execution_count": 50,
   "metadata": {},
   "outputs": [
    {
     "name": "stdout",
     "output_type": "stream",
     "text": [
      "readmission\n",
      "No     3139\n",
      "Yes     267\n",
      "Name: count, dtype: int64\n"
     ]
    }
   ],
   "source": [
    "count_readmission = df['readmission'].value_counts()\n",
    "print(count_readmission)"
   ]
  },
  {
   "cell_type": "code",
   "execution_count": 71,
   "metadata": {},
   "outputs": [],
   "source": [
    "# Perform one-hot encoding\n",
    "one_hot_encoded_readmission = pd.get_dummies(df['readmission'], prefix='Readmission_',dtype=int)\n",
    "# Concatenate the one-hot encoded DataFrame with the original DataFrame\n",
    "df1 = pd.concat([df1, one_hot_encoded_readmission], axis=1)"
   ]
  },
  {
   "cell_type": "code",
   "execution_count": 72,
   "metadata": {},
   "outputs": [
    {
     "name": "stdout",
     "output_type": "stream",
     "text": [
      "Index(['ref_no', 'age', 'race', 'injury_time', 'arrival_time',\n",
      "       'eddischarge_time', 'pov', 'transfer', 'referring_facility',\n",
      "       'arrival_mode', 'intubated', 'ventstop_time', 'other_ventstop_time',\n",
      "       'tbsa2', 'tbsa3', 'inhalation', 'diagnosis', 'readmission',\n",
      "       'details_injury', 'moi', 'discharge_time', 'icu_los', 'total_los',\n",
      "       'status', 'Sex__Female ', 'Sex__Male   ', 'Status__', 'Status__Alive',\n",
      "       'Status__Dead', 'Moi__Chemical Burn', 'Moi__Electrical Burn',\n",
      "       'Moi__Inhalation Burn', 'Moi__MVC', 'Moi__Not Applicable',\n",
      "       'Moi__Other Burn Mech', 'Moi__Thermal Burn', 'Readmission__No',\n",
      "       'Readmission__Yes'],\n",
      "      dtype='object')\n"
     ]
    }
   ],
   "source": [
    "print(df1.columns)"
   ]
  },
  {
   "cell_type": "code",
   "execution_count": 73,
   "metadata": {},
   "outputs": [],
   "source": [
    "df1.to_excel('Data_sex_status_moi_readmission.xlsx', index=False)"
   ]
  },
  {
   "cell_type": "markdown",
   "metadata": {},
   "source": [
    "### Race"
   ]
  },
  {
   "cell_type": "code",
   "execution_count": 54,
   "metadata": {},
   "outputs": [
    {
     "name": "stdout",
     "output_type": "stream",
     "text": [
      "race\n",
      "White         2819\n",
      "Other          248\n",
      "Black          213\n",
      "Unknown        105\n",
      "Asian           14\n",
      "Native Ame       7\n",
      "Name: count, dtype: int64\n"
     ]
    }
   ],
   "source": [
    "count_race = df['race'].value_counts()\n",
    "print(count_race)"
   ]
  },
  {
   "cell_type": "code",
   "execution_count": 78,
   "metadata": {},
   "outputs": [],
   "source": [
    "# Perform one-hot encoding\n",
    "one_hot_encoded_race = pd.get_dummies(df['race'], prefix='Race_',dtype=int)\n",
    "# Concatenate the one-hot encoded DataFrame with the original DataFrame\n",
    "df1 = pd.concat([df1, one_hot_encoded_race], axis=1)"
   ]
  },
  {
   "cell_type": "code",
   "execution_count": 76,
   "metadata": {},
   "outputs": [],
   "source": [
    "columns_to_drop = ['Readmission__Asian     ',\n",
    "       'Readmission__Black     ', 'Readmission__Native Ame',\n",
    "       'Readmission__Other     ', 'Readmission__Unknown   ',\n",
    "       'Readmission__White     ']  # List of columns to drop\n",
    "df1.drop(columns_to_drop, axis=1, inplace=True)"
   ]
  },
  {
   "cell_type": "code",
   "execution_count": 79,
   "metadata": {},
   "outputs": [
    {
     "name": "stdout",
     "output_type": "stream",
     "text": [
      "Index(['ref_no', 'age', 'race', 'injury_time', 'arrival_time',\n",
      "       'eddischarge_time', 'pov', 'transfer', 'referring_facility',\n",
      "       'arrival_mode', 'intubated', 'ventstop_time', 'other_ventstop_time',\n",
      "       'tbsa2', 'tbsa3', 'inhalation', 'diagnosis', 'readmission',\n",
      "       'details_injury', 'moi', 'discharge_time', 'icu_los', 'total_los',\n",
      "       'status', 'Sex__Female ', 'Sex__Male   ', 'Status__', 'Status__Alive',\n",
      "       'Status__Dead', 'Moi__Chemical Burn', 'Moi__Electrical Burn',\n",
      "       'Moi__Inhalation Burn', 'Moi__MVC', 'Moi__Not Applicable',\n",
      "       'Moi__Other Burn Mech', 'Moi__Thermal Burn', 'Readmission__No',\n",
      "       'Readmission__Yes', 'Race__Asian     ', 'Race__Black     ',\n",
      "       'Race__Native Ame', 'Race__Other     ', 'Race__Unknown   ',\n",
      "       'Race__White     '],\n",
      "      dtype='object')\n"
     ]
    }
   ],
   "source": [
    "print(df1.columns)"
   ]
  },
  {
   "cell_type": "code",
   "execution_count": 80,
   "metadata": {},
   "outputs": [],
   "source": [
    "df1.to_excel('Data_sex_status_moi_readmission_race.xlsx', index=False)"
   ]
  },
  {
   "cell_type": "markdown",
   "metadata": {},
   "source": [
    "### Inhalation"
   ]
  },
  {
   "cell_type": "code",
   "execution_count": 82,
   "metadata": {},
   "outputs": [
    {
     "name": "stdout",
     "output_type": "stream",
     "text": [
      "inhalation\n",
      "No                 3013\n",
      "Yes - With Cuta     122\n",
      "Not Applicable       79\n",
      "Yes - Without C      51\n",
      "Yes                  32\n",
      "                      5\n",
      "Name: count, dtype: int64\n"
     ]
    }
   ],
   "source": [
    "count_inhalation = df['inhalation'].value_counts()\n",
    "print(count_inhalation)"
   ]
  },
  {
   "cell_type": "code",
   "execution_count": 81,
   "metadata": {},
   "outputs": [],
   "source": [
    "df['inhalation'] = df['inhalation'].str.strip()"
   ]
  },
  {
   "cell_type": "code",
   "execution_count": 83,
   "metadata": {},
   "outputs": [],
   "source": [
    "# Perform one-hot encoding\n",
    "one_hot_encoded_inhalation = pd.get_dummies(df['inhalation'], prefix='Inhalation_',dtype=int)\n",
    "# Concatenate the one-hot encoded DataFrame with the original DataFrame\n",
    "df1 = pd.concat([df1, one_hot_encoded_inhalation], axis=1)"
   ]
  },
  {
   "cell_type": "code",
   "execution_count": 84,
   "metadata": {},
   "outputs": [
    {
     "name": "stdout",
     "output_type": "stream",
     "text": [
      "Index(['ref_no', 'age', 'race', 'injury_time', 'arrival_time',\n",
      "       'eddischarge_time', 'pov', 'transfer', 'referring_facility',\n",
      "       'arrival_mode', 'intubated', 'ventstop_time', 'other_ventstop_time',\n",
      "       'tbsa2', 'tbsa3', 'inhalation', 'diagnosis', 'readmission',\n",
      "       'details_injury', 'moi', 'discharge_time', 'icu_los', 'total_los',\n",
      "       'status', 'Sex__Female ', 'Sex__Male   ', 'Status__', 'Status__Alive',\n",
      "       'Status__Dead', 'Moi__Chemical Burn', 'Moi__Electrical Burn',\n",
      "       'Moi__Inhalation Burn', 'Moi__MVC', 'Moi__Not Applicable',\n",
      "       'Moi__Other Burn Mech', 'Moi__Thermal Burn', 'Readmission__No',\n",
      "       'Readmission__Yes', 'Race__Asian     ', 'Race__Black     ',\n",
      "       'Race__Native Ame', 'Race__Other     ', 'Race__Unknown   ',\n",
      "       'Race__White     ', 'Inhalation__', 'Inhalation__No',\n",
      "       'Inhalation__Not Applicable', 'Inhalation__Yes',\n",
      "       'Inhalation__Yes - With Cuta', 'Inhalation__Yes - Without C'],\n",
      "      dtype='object')\n"
     ]
    }
   ],
   "source": [
    "print(df1.columns)"
   ]
  },
  {
   "cell_type": "code",
   "execution_count": 85,
   "metadata": {},
   "outputs": [],
   "source": [
    "df1.to_excel('Data_sex_status_moi_readmission_race_inhalation.xlsx', index=False)"
   ]
  },
  {
   "cell_type": "markdown",
   "metadata": {},
   "source": [
    "### Transfer"
   ]
  },
  {
   "cell_type": "code",
   "execution_count": 86,
   "metadata": {},
   "outputs": [
    {
     "name": "stdout",
     "output_type": "stream",
     "text": [
      "transfer\n",
      "Yes    2257\n",
      "No     1148\n",
      "Name: count, dtype: int64\n"
     ]
    }
   ],
   "source": [
    "count_transfer = df['transfer'].value_counts()\n",
    "print(count_transfer)"
   ]
  },
  {
   "cell_type": "code",
   "execution_count": 87,
   "metadata": {},
   "outputs": [],
   "source": [
    "# Perform one-hot encoding\n",
    "one_hot_encoded_transfer = pd.get_dummies(df['transfer'], prefix='Transfer_',dtype=int)\n",
    "# Concatenate the one-hot encoded DataFrame with the original DataFrame\n",
    "df1 = pd.concat([df1, one_hot_encoded_transfer], axis=1)"
   ]
  },
  {
   "cell_type": "code",
   "execution_count": 88,
   "metadata": {},
   "outputs": [
    {
     "name": "stdout",
     "output_type": "stream",
     "text": [
      "Index(['ref_no', 'age', 'race', 'injury_time', 'arrival_time',\n",
      "       'eddischarge_time', 'pov', 'transfer', 'referring_facility',\n",
      "       'arrival_mode', 'intubated', 'ventstop_time', 'other_ventstop_time',\n",
      "       'tbsa2', 'tbsa3', 'inhalation', 'diagnosis', 'readmission',\n",
      "       'details_injury', 'moi', 'discharge_time', 'icu_los', 'total_los',\n",
      "       'status', 'Sex__Female ', 'Sex__Male   ', 'Status__', 'Status__Alive',\n",
      "       'Status__Dead', 'Moi__Chemical Burn', 'Moi__Electrical Burn',\n",
      "       'Moi__Inhalation Burn', 'Moi__MVC', 'Moi__Not Applicable',\n",
      "       'Moi__Other Burn Mech', 'Moi__Thermal Burn', 'Readmission__No',\n",
      "       'Readmission__Yes', 'Race__Asian     ', 'Race__Black     ',\n",
      "       'Race__Native Ame', 'Race__Other     ', 'Race__Unknown   ',\n",
      "       'Race__White     ', 'Inhalation__', 'Inhalation__No',\n",
      "       'Inhalation__Not Applicable', 'Inhalation__Yes',\n",
      "       'Inhalation__Yes - With Cuta', 'Inhalation__Yes - Without C',\n",
      "       'Transfer__No', 'Transfer__Yes'],\n",
      "      dtype='object')\n"
     ]
    }
   ],
   "source": [
    "print(df1.columns)"
   ]
  },
  {
   "cell_type": "markdown",
   "metadata": {},
   "source": [
    "### Intubated"
   ]
  },
  {
   "cell_type": "code",
   "execution_count": 90,
   "metadata": {},
   "outputs": [
    {
     "name": "stdout",
     "output_type": "stream",
     "text": [
      "intubated\n",
      "No     2879\n",
      "Yes     399\n",
      "Name: count, dtype: int64\n"
     ]
    }
   ],
   "source": [
    "count_intubated = df['intubated'].value_counts()\n",
    "print(count_intubated)"
   ]
  },
  {
   "cell_type": "code",
   "execution_count": 91,
   "metadata": {},
   "outputs": [],
   "source": [
    "# Perform one-hot encoding\n",
    "one_hot_encoded_intubated = pd.get_dummies(df['intubated'], prefix='Intubated_',dtype=int)\n",
    "# Concatenate the one-hot encoded DataFrame with the original DataFrame\n",
    "df1 = pd.concat([df1, one_hot_encoded_intubated], axis=1)"
   ]
  },
  {
   "cell_type": "code",
   "execution_count": 92,
   "metadata": {},
   "outputs": [
    {
     "name": "stdout",
     "output_type": "stream",
     "text": [
      "Index(['ref_no', 'age', 'race', 'injury_time', 'arrival_time',\n",
      "       'eddischarge_time', 'pov', 'transfer', 'referring_facility',\n",
      "       'arrival_mode', 'intubated', 'ventstop_time', 'other_ventstop_time',\n",
      "       'tbsa2', 'tbsa3', 'inhalation', 'diagnosis', 'readmission',\n",
      "       'details_injury', 'moi', 'discharge_time', 'icu_los', 'total_los',\n",
      "       'status', 'Sex__Female ', 'Sex__Male   ', 'Status__', 'Status__Alive',\n",
      "       'Status__Dead', 'Moi__Chemical Burn', 'Moi__Electrical Burn',\n",
      "       'Moi__Inhalation Burn', 'Moi__MVC', 'Moi__Not Applicable',\n",
      "       'Moi__Other Burn Mech', 'Moi__Thermal Burn', 'Readmission__No',\n",
      "       'Readmission__Yes', 'Race__Asian     ', 'Race__Black     ',\n",
      "       'Race__Native Ame', 'Race__Other     ', 'Race__Unknown   ',\n",
      "       'Race__White     ', 'Inhalation__', 'Inhalation__No',\n",
      "       'Inhalation__Not Applicable', 'Inhalation__Yes',\n",
      "       'Inhalation__Yes - With Cuta', 'Inhalation__Yes - Without C',\n",
      "       'Transfer__No', 'Transfer__Yes', 'Intubated__No', 'Intubated__Yes'],\n",
      "      dtype='object')\n"
     ]
    }
   ],
   "source": [
    "print(df1.columns)"
   ]
  },
  {
   "cell_type": "code",
   "execution_count": 93,
   "metadata": {},
   "outputs": [],
   "source": [
    "df1.to_excel('Data_sex_status_moi_readmission_race_inhalation_transfer_intubated.xlsx', index=False)"
   ]
  },
  {
   "cell_type": "markdown",
   "metadata": {},
   "source": [
    "### POV"
   ]
  },
  {
   "cell_type": "code",
   "execution_count": 107,
   "metadata": {},
   "outputs": [
    {
     "name": "stdout",
     "output_type": "stream",
     "text": [
      "pov\n",
      "Yes                2195\n",
      "No                  991\n",
      "                    161\n",
      "Name: count, dtype: int64\n"
     ]
    }
   ],
   "source": [
    "count_pov= df['pov'].value_counts()\n",
    "print(count_pov)"
   ]
  },
  {
   "cell_type": "code",
   "execution_count": 108,
   "metadata": {},
   "outputs": [],
   "source": [
    "# Perform one-hot encoding\n",
    "one_hot_encoded_pov = pd.get_dummies(df['pov'], prefix='POV_',dtype=int)\n",
    "# Concatenate the one-hot encoded DataFrame with the original DataFrame\n",
    "df1 = pd.concat([df1, one_hot_encoded_pov], axis=1)"
   ]
  },
  {
   "cell_type": "code",
   "execution_count": 109,
   "metadata": {},
   "outputs": [
    {
     "name": "stdout",
     "output_type": "stream",
     "text": [
      "Index(['ref_no', 'age', 'race', 'injury_time', 'arrival_time',\n",
      "       'eddischarge_time', 'pov', 'transfer', 'referring_facility',\n",
      "       'arrival_mode', 'intubated', 'ventstop_time', 'other_ventstop_time',\n",
      "       'tbsa2', 'tbsa3', 'inhalation', 'diagnosis', 'readmission',\n",
      "       'details_injury', 'moi', 'discharge_time', 'icu_los', 'total_los',\n",
      "       'status', 'Sex__Female ', 'Sex__Male   ', 'Status__', 'Status__Alive',\n",
      "       'Status__Dead', 'Moi__Chemical Burn', 'Moi__Electrical Burn',\n",
      "       'Moi__Inhalation Burn', 'Moi__MVC', 'Moi__Not Applicable',\n",
      "       'Moi__Other Burn Mech', 'Moi__Thermal Burn', 'Readmission__No',\n",
      "       'Readmission__Yes', 'Race__Asian     ', 'Race__Black     ',\n",
      "       'Race__Native Ame', 'Race__Other     ', 'Race__Unknown   ',\n",
      "       'Race__White     ', 'Inhalation__', 'Inhalation__No',\n",
      "       'Inhalation__Not Applicable', 'Inhalation__Yes',\n",
      "       'Inhalation__Yes - With Cuta', 'Inhalation__Yes - Without C',\n",
      "       'Transfer__No', 'Transfer__Yes', 'Intubated__No', 'Intubated__Yes',\n",
      "       'POV__               ', 'POV__No', 'POV__Yes'],\n",
      "      dtype='object')\n"
     ]
    }
   ],
   "source": [
    "print(df1.columns)"
   ]
  },
  {
   "cell_type": "code",
   "execution_count": 94,
   "metadata": {},
   "outputs": [
    {
     "name": "stdout",
     "output_type": "stream",
     "text": [
      "referring_facility\n",
      "                                                      665\n",
      "                                                      484\n",
      "New Mexico, State of                                  360\n",
      "Northwest Texas Hospital                              137\n",
      "Midland Memorial Hospital                             109\n",
      "                                                     ... \n",
      "Rankin County Hospital Distric                          1\n",
      "Hansford County Hospital                                1\n",
      "Christus Santa Rosa Hosp-Westover Hills                 1\n",
      "Providence Health Center                                1\n",
      "Cochran Memorial Hospital                               1\n",
      "Name: count, Length: 211, dtype: int64\n"
     ]
    }
   ],
   "source": [
    "count_referring_facility = df['referring_facility'].value_counts()\n",
    "print(count_referring_facility)"
   ]
  },
  {
   "cell_type": "code",
   "execution_count": null,
   "metadata": {},
   "outputs": [],
   "source": [
    "count_referring_facility = df['referring_facility'].value_counts()\n",
    "print(count_referring_facility)"
   ]
  },
  {
   "cell_type": "code",
   "execution_count": 96,
   "metadata": {},
   "outputs": [
    {
     "name": "stdout",
     "output_type": "stream",
     "text": [
      "arrival_mode\n",
      "Ground Ambulance                  1291\n",
      "Private Vehicle or Walk-In         935\n",
      "Helicopter Ambulance               759\n",
      "Fixed-Wing Ambulance               406\n",
      "Corrections                          7\n",
      "Not Applicable                       4\n",
      "Police                               2\n",
      "Unknown                              1\n",
      "Other                                1\n",
      "Name: count, dtype: int64\n"
     ]
    }
   ],
   "source": [
    "\n",
    "count_referring_facility = df['arrival_mode'].value_counts()\n",
    "print(count_referring_facility)"
   ]
  },
  {
   "cell_type": "code",
   "execution_count": 110,
   "metadata": {},
   "outputs": [],
   "source": [
    "df2 = df1.copy()\n"
   ]
  },
  {
   "cell_type": "code",
   "execution_count": 102,
   "metadata": {},
   "outputs": [],
   "source": [
    "# Load the Excel file into a DataFrame\n",
    "df3 = pd.read_excel('Data_direct_python.xlsx')"
   ]
  },
  {
   "cell_type": "code",
   "execution_count": 103,
   "metadata": {},
   "outputs": [
    {
     "name": "stdout",
     "output_type": "stream",
     "text": [
      "Index(['ref_no', 'age', 'sex', 'race', 'injury_time', 'arrival_time',\n",
      "       'eddischarge_time', 'pov', 'transfer', 'referring_facility',\n",
      "       'arrival_mode', 'intubated', 'ventstop_time', 'other_ventstop_time',\n",
      "       'tbsa2', 'tbsa3', 'inhalation', 'diagnosis', 'readmission',\n",
      "       'details_injury', 'moi', 'discharge_time', 'icu_los', 'total_los',\n",
      "       'status', 'time_difference(days)_arrival_vs_injury', 'days', 'hours',\n",
      "       'minutes', 'seconds', 'time_difference(days)_arrival_vs_eddischarge',\n",
      "       'days_arrival_vs_eddischarge', 'hours_arrival_vs_eddischarge',\n",
      "       'minutes_arrival_vs_eddischarge',\n",
      "       'time_difference(days)_eddischarge_vs_discharge',\n",
      "       'days_eddischarge_vs_discharge', 'hours_eddischarge_vs_discharge',\n",
      "       'minutes_eddischarge_vs_discharge'],\n",
      "      dtype='object')\n"
     ]
    }
   ],
   "source": [
    "print(df3.columns)"
   ]
  },
  {
   "cell_type": "code",
   "execution_count": 104,
   "metadata": {},
   "outputs": [],
   "source": [
    "columns_to_drop = ['ref_no', 'age', 'sex', 'race', 'injury_time', 'arrival_time',\n",
    "       'eddischarge_time', 'pov', 'transfer', 'referring_facility',\n",
    "       'arrival_mode', 'intubated', 'ventstop_time', 'other_ventstop_time',\n",
    "       'tbsa2', 'tbsa3', 'inhalation', 'diagnosis', 'readmission',\n",
    "       'details_injury', 'moi', 'discharge_time', 'icu_los', 'total_los',\n",
    "       'status']  # List of columns to drop\n",
    "df3.drop(columns_to_drop, axis=1, inplace=True)"
   ]
  },
  {
   "cell_type": "code",
   "execution_count": 105,
   "metadata": {},
   "outputs": [
    {
     "name": "stdout",
     "output_type": "stream",
     "text": [
      "Index(['time_difference(days)_arrival_vs_injury', 'days', 'hours', 'minutes',\n",
      "       'seconds', 'time_difference(days)_arrival_vs_eddischarge',\n",
      "       'days_arrival_vs_eddischarge', 'hours_arrival_vs_eddischarge',\n",
      "       'minutes_arrival_vs_eddischarge',\n",
      "       'time_difference(days)_eddischarge_vs_discharge',\n",
      "       'days_eddischarge_vs_discharge', 'hours_eddischarge_vs_discharge',\n",
      "       'minutes_eddischarge_vs_discharge'],\n",
      "      dtype='object')\n"
     ]
    }
   ],
   "source": [
    "print(df3.columns)  "
   ]
  },
  {
   "cell_type": "code",
   "execution_count": 106,
   "metadata": {},
   "outputs": [
    {
     "name": "stdout",
     "output_type": "stream",
     "text": [
      "Index(['ref_no', 'age', 'race', 'injury_time', 'arrival_time',\n",
      "       'eddischarge_time', 'pov', 'transfer', 'referring_facility',\n",
      "       'arrival_mode', 'intubated', 'ventstop_time', 'other_ventstop_time',\n",
      "       'tbsa2', 'tbsa3', 'inhalation', 'diagnosis', 'readmission',\n",
      "       'details_injury', 'moi', 'discharge_time', 'icu_los', 'total_los',\n",
      "       'status', 'Sex__Female ', 'Sex__Male   ', 'Status__', 'Status__Alive',\n",
      "       'Status__Dead', 'Moi__Chemical Burn', 'Moi__Electrical Burn',\n",
      "       'Moi__Inhalation Burn', 'Moi__MVC', 'Moi__Not Applicable',\n",
      "       'Moi__Other Burn Mech', 'Moi__Thermal Burn', 'Readmission__No',\n",
      "       'Readmission__Yes', 'Race__Asian     ', 'Race__Black     ',\n",
      "       'Race__Native Ame', 'Race__Other     ', 'Race__Unknown   ',\n",
      "       'Race__White     ', 'Inhalation__', 'Inhalation__No',\n",
      "       'Inhalation__Not Applicable', 'Inhalation__Yes',\n",
      "       'Inhalation__Yes - With Cuta', 'Inhalation__Yes - Without C',\n",
      "       'Transfer__No', 'Transfer__Yes', 'Intubated__No', 'Intubated__Yes'],\n",
      "      dtype='object')\n"
     ]
    }
   ],
   "source": [
    "print(df2.columns)"
   ]
  },
  {
   "cell_type": "code",
   "execution_count": 111,
   "metadata": {},
   "outputs": [],
   "source": [
    "columns_to_drop = ['ref_no', 'age',\n",
    "       'tbsa2', 'tbsa3', 'icu_los', 'total_los','Sex__Female ', 'Sex__Male   ', 'Status__', 'Status__Alive',\n",
    "       'Status__Dead', 'Moi__Chemical Burn', 'Moi__Electrical Burn',\n",
    "       'Moi__Inhalation Burn', 'Moi__MVC', 'Moi__Not Applicable',\n",
    "       'Moi__Other Burn Mech', 'Moi__Thermal Burn', 'Readmission__No',\n",
    "       'Readmission__Yes', 'Race__Asian     ', 'Race__Black     ',\n",
    "       'Race__Native Ame', 'Race__Other     ', 'Race__Unknown   ',\n",
    "       'Race__White     ', 'Inhalation__', 'Inhalation__No',\n",
    "       'Inhalation__Not Applicable', 'Inhalation__Yes',\n",
    "       'Inhalation__Yes - With Cuta', 'Inhalation__Yes - Without C',\n",
    "       'Transfer__No', 'Transfer__Yes', 'Intubated__No', 'Intubated__Yes']  # List of columns to drop\n",
    "df2.drop(columns_to_drop, axis=1, inplace=True)"
   ]
  },
  {
   "cell_type": "code",
   "execution_count": 112,
   "metadata": {},
   "outputs": [
    {
     "name": "stdout",
     "output_type": "stream",
     "text": [
      "Index(['race', 'injury_time', 'arrival_time', 'eddischarge_time', 'pov',\n",
      "       'transfer', 'referring_facility', 'arrival_mode', 'intubated',\n",
      "       'ventstop_time', 'other_ventstop_time', 'inhalation', 'diagnosis',\n",
      "       'readmission', 'details_injury', 'moi', 'discharge_time', 'status',\n",
      "       'POV__               ', 'POV__No', 'POV__Yes'],\n",
      "      dtype='object')\n"
     ]
    }
   ],
   "source": [
    "print(df2.columns)"
   ]
  },
  {
   "cell_type": "code",
   "execution_count": 113,
   "metadata": {},
   "outputs": [],
   "source": [
    "df4 = df1.copy()"
   ]
  },
  {
   "cell_type": "code",
   "execution_count": 114,
   "metadata": {},
   "outputs": [
    {
     "name": "stdout",
     "output_type": "stream",
     "text": [
      "Index(['ref_no', 'age', 'race', 'injury_time', 'arrival_time',\n",
      "       'eddischarge_time', 'pov', 'transfer', 'referring_facility',\n",
      "       'arrival_mode', 'intubated', 'ventstop_time', 'other_ventstop_time',\n",
      "       'tbsa2', 'tbsa3', 'inhalation', 'diagnosis', 'readmission',\n",
      "       'details_injury', 'moi', 'discharge_time', 'icu_los', 'total_los',\n",
      "       'status', 'Sex__Female ', 'Sex__Male   ', 'Status__', 'Status__Alive',\n",
      "       'Status__Dead', 'Moi__Chemical Burn', 'Moi__Electrical Burn',\n",
      "       'Moi__Inhalation Burn', 'Moi__MVC', 'Moi__Not Applicable',\n",
      "       'Moi__Other Burn Mech', 'Moi__Thermal Burn', 'Readmission__No',\n",
      "       'Readmission__Yes', 'Race__Asian     ', 'Race__Black     ',\n",
      "       'Race__Native Ame', 'Race__Other     ', 'Race__Unknown   ',\n",
      "       'Race__White     ', 'Inhalation__', 'Inhalation__No',\n",
      "       'Inhalation__Not Applicable', 'Inhalation__Yes',\n",
      "       'Inhalation__Yes - With Cuta', 'Inhalation__Yes - Without C',\n",
      "       'Transfer__No', 'Transfer__Yes', 'Intubated__No', 'Intubated__Yes',\n",
      "       'POV__               ', 'POV__No', 'POV__Yes'],\n",
      "      dtype='object')\n"
     ]
    }
   ],
   "source": [
    "print(df4.columns)"
   ]
  },
  {
   "cell_type": "code",
   "execution_count": 115,
   "metadata": {},
   "outputs": [],
   "source": [
    "columns_to_drop = ['race', 'injury_time', 'arrival_time', 'eddischarge_time', 'pov',\n",
    "       'transfer', 'referring_facility', 'arrival_mode', 'intubated',\n",
    "       'ventstop_time', 'other_ventstop_time', 'inhalation', 'diagnosis',\n",
    "       'readmission', 'details_injury', 'moi', 'discharge_time', 'status']  # List of columns to drop\n",
    "df4.drop(columns_to_drop, axis=1, inplace=True)"
   ]
  },
  {
   "cell_type": "code",
   "execution_count": 116,
   "metadata": {},
   "outputs": [
    {
     "name": "stdout",
     "output_type": "stream",
     "text": [
      "Index(['ref_no', 'age', 'tbsa2', 'tbsa3', 'icu_los', 'total_los',\n",
      "       'Sex__Female ', 'Sex__Male   ', 'Status__', 'Status__Alive',\n",
      "       'Status__Dead', 'Moi__Chemical Burn', 'Moi__Electrical Burn',\n",
      "       'Moi__Inhalation Burn', 'Moi__MVC', 'Moi__Not Applicable',\n",
      "       'Moi__Other Burn Mech', 'Moi__Thermal Burn', 'Readmission__No',\n",
      "       'Readmission__Yes', 'Race__Asian     ', 'Race__Black     ',\n",
      "       'Race__Native Ame', 'Race__Other     ', 'Race__Unknown   ',\n",
      "       'Race__White     ', 'Inhalation__', 'Inhalation__No',\n",
      "       'Inhalation__Not Applicable', 'Inhalation__Yes',\n",
      "       'Inhalation__Yes - With Cuta', 'Inhalation__Yes - Without C',\n",
      "       'Transfer__No', 'Transfer__Yes', 'Intubated__No', 'Intubated__Yes',\n",
      "       'POV__               ', 'POV__No', 'POV__Yes'],\n",
      "      dtype='object')\n"
     ]
    }
   ],
   "source": [
    "print(df4.columns)"
   ]
  },
  {
   "cell_type": "code",
   "execution_count": 117,
   "metadata": {},
   "outputs": [],
   "source": [
    "# Concatenate df4 and df3\n",
    "df5 = pd.concat([df3, df4], axis=1)"
   ]
  },
  {
   "cell_type": "code",
   "execution_count": 118,
   "metadata": {},
   "outputs": [
    {
     "name": "stdout",
     "output_type": "stream",
     "text": [
      "Index(['time_difference(days)_arrival_vs_injury', 'days', 'hours', 'minutes',\n",
      "       'seconds', 'time_difference(days)_arrival_vs_eddischarge',\n",
      "       'days_arrival_vs_eddischarge', 'hours_arrival_vs_eddischarge',\n",
      "       'minutes_arrival_vs_eddischarge',\n",
      "       'time_difference(days)_eddischarge_vs_discharge',\n",
      "       'days_eddischarge_vs_discharge', 'hours_eddischarge_vs_discharge',\n",
      "       'minutes_eddischarge_vs_discharge', 'ref_no', 'age', 'tbsa2', 'tbsa3',\n",
      "       'icu_los', 'total_los', 'Sex__Female ', 'Sex__Male   ', 'Status__',\n",
      "       'Status__Alive', 'Status__Dead', 'Moi__Chemical Burn',\n",
      "       'Moi__Electrical Burn', 'Moi__Inhalation Burn', 'Moi__MVC',\n",
      "       'Moi__Not Applicable', 'Moi__Other Burn Mech', 'Moi__Thermal Burn',\n",
      "       'Readmission__No', 'Readmission__Yes', 'Race__Asian     ',\n",
      "       'Race__Black     ', 'Race__Native Ame', 'Race__Other     ',\n",
      "       'Race__Unknown   ', 'Race__White     ', 'Inhalation__',\n",
      "       'Inhalation__No', 'Inhalation__Not Applicable', 'Inhalation__Yes',\n",
      "       'Inhalation__Yes - With Cuta', 'Inhalation__Yes - Without C',\n",
      "       'Transfer__No', 'Transfer__Yes', 'Intubated__No', 'Intubated__Yes',\n",
      "       'POV__               ', 'POV__No', 'POV__Yes'],\n",
      "      dtype='object')\n"
     ]
    }
   ],
   "source": [
    "print(df5.columns)"
   ]
  },
  {
   "cell_type": "code",
   "execution_count": 119,
   "metadata": {},
   "outputs": [
    {
     "name": "stdout",
     "output_type": "stream",
     "text": [
      "Index(['ref_no', 'age', 'tbsa2', 'tbsa3', 'icu_los', 'total_los',\n",
      "       'Sex__Female ', 'Sex__Male   ', 'Status__', 'Status__Alive',\n",
      "       'Status__Dead', 'Moi__Chemical Burn', 'Moi__Electrical Burn',\n",
      "       'Moi__Inhalation Burn', 'Moi__MVC', 'Moi__Not Applicable',\n",
      "       'Moi__Other Burn Mech', 'Moi__Thermal Burn', 'Readmission__No',\n",
      "       'Readmission__Yes', 'Race__Asian     ', 'Race__Black     ',\n",
      "       'Race__Native Ame', 'Race__Other     ', 'Race__Unknown   ',\n",
      "       'Race__White     ', 'Inhalation__', 'Inhalation__No',\n",
      "       'Inhalation__Not Applicable', 'Inhalation__Yes',\n",
      "       'Inhalation__Yes - With Cuta', 'Inhalation__Yes - Without C',\n",
      "       'Transfer__No', 'Transfer__Yes', 'Intubated__No', 'Intubated__Yes',\n",
      "       'POV__               ', 'POV__No', 'POV__Yes',\n",
      "       'time_difference(days)_arrival_vs_injury', 'days', 'hours', 'minutes',\n",
      "       'seconds', 'time_difference(days)_arrival_vs_eddischarge',\n",
      "       'days_arrival_vs_eddischarge', 'hours_arrival_vs_eddischarge',\n",
      "       'minutes_arrival_vs_eddischarge',\n",
      "       'time_difference(days)_eddischarge_vs_discharge',\n",
      "       'days_eddischarge_vs_discharge', 'hours_eddischarge_vs_discharge',\n",
      "       'minutes_eddischarge_vs_discharge'],\n",
      "      dtype='object')\n"
     ]
    }
   ],
   "source": [
    "df6 = pd.concat([df4,df3], axis=1)\n",
    "print(df6.columns)"
   ]
  },
  {
   "cell_type": "code",
   "execution_count": 121,
   "metadata": {},
   "outputs": [],
   "source": [
    "# save the DataFrame to a new Excel file\n",
    "df6.to_excel('Data_without_text_data.xlsx', index=False)"
   ]
  }
 ],
 "metadata": {
  "kernelspec": {
   "display_name": "Python 3",
   "language": "python",
   "name": "python3"
  },
  "language_info": {
   "codemirror_mode": {
    "name": "ipython",
    "version": 3
   },
   "file_extension": ".py",
   "mimetype": "text/x-python",
   "name": "python",
   "nbconvert_exporter": "python",
   "pygments_lexer": "ipython3",
   "version": "3.10.2"
  }
 },
 "nbformat": 4,
 "nbformat_minor": 2
}
